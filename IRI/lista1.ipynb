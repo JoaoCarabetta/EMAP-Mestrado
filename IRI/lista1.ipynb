{
 "cells": [
  {
   "cell_type": "markdown",
   "metadata": {},
   "source": [
    "# Introdução à Recuperação de Informações\n",
    "# Lista de exercícios 1"
   ]
  },
  {
   "cell_type": "markdown",
   "metadata": {},
   "source": [
    "### Para os exercícios, vamos usar o corpus de despachos de leis na câmara. É um corpus bem técnico com um léxico limitado, mas como não existe nenhuma sistematização sobre sua estrutura, parece uma tarefa exploratória interessante."
   ]
  },
  {
   "cell_type": "markdown",
   "metadata": {},
   "source": [
    "#### 1) importando os pacotes e preparando o ambiente"
   ]
  },
  {
   "cell_type": "code",
   "execution_count": 16,
   "metadata": {
    "collapsed": false
   },
   "outputs": [
    {
     "name": "stdout",
     "output_type": "stream",
     "text": [
      "[nltk_data] Downloading package stopwords to /Users/Admin/nltk_data...\n",
      "[nltk_data]   Package stopwords is already up-to-date!\n"
     ]
    }
   ],
   "source": [
    "import pandas as pd\n",
    "import pickle\n",
    "\n",
    "import nltk\n",
    "from nltk.corpus import machado, mac_morpho\n",
    "from nltk.tokenize import WordPunctTokenizer\n",
    "from nltk.corpus import stopwords\n",
    "import string\n",
    "from nltk.stem.snowball import PortugueseStemmer\n",
    "\n",
    "from collections import defaultdict\n",
    "import tqdm\n",
    "import numpy as np\n",
    "\n",
    "\n",
    "nltk.download('stopwords')\n",
    "\n",
    "%matplotlib inline"
   ]
  },
  {
   "cell_type": "code",
   "execution_count": 17,
   "metadata": {
    "collapsed": true
   },
   "outputs": [],
   "source": [
    "swu = stopwords.words('portuguese') + list (string.punctuation)\n",
    "stemmer = PortugueseStemmer()"
   ]
  },
  {
   "cell_type": "markdown",
   "metadata": {},
   "source": [
    "#### 2) Carregando o arquivo e selecionando as informações de interesse"
   ]
  },
  {
   "cell_type": "code",
   "execution_count": 27,
   "metadata": {
    "collapsed": false
   },
   "outputs": [
    {
     "name": "stderr",
     "output_type": "stream",
     "text": [
      "/Library/Frameworks/Python.framework/Versions/3.5/lib/python3.5/site-packages/IPython/core/interactiveshell.py:2723: DtypeWarning: Columns (2) have mixed types. Specify dtype option on import or set low_memory=False.\n",
      "  interactivity=interactivity, compiler=compiler, result=result)\n"
     ]
    }
   ],
   "source": [
    "tramitacao = pd.read_csv('csvs/tramitacao.csv')"
   ]
  },
  {
   "cell_type": "code",
   "execution_count": 28,
   "metadata": {
    "collapsed": false,
    "scrolled": true
   },
   "outputs": [
    {
     "data": {
      "text/html": [
       "<div>\n",
       "<table border=\"1\" class=\"dataframe\">\n",
       "  <thead>\n",
       "    <tr style=\"text-align: right;\">\n",
       "      <th></th>\n",
       "      <th>data_tramitacao</th>\n",
       "      <th>despacho</th>\n",
       "      <th>id_tramitacao</th>\n",
       "      <th>url_proposicao</th>\n",
       "      <th>id_tipo_tramitacao</th>\n",
       "    </tr>\n",
       "  </thead>\n",
       "  <tbody>\n",
       "    <tr>\n",
       "      <th>0</th>\n",
       "      <td>2012-11-14 09:26:42.770</td>\n",
       "      <td>Encaminhado  à CEDI (Legislação Citada)</td>\n",
       "      <td>8002015931446589096</td>\n",
       "      <td>https://dadosabertos.camara.leg.br/api/v2propo...</td>\n",
       "      <td>1004.0</td>\n",
       "    </tr>\n",
       "    <tr>\n",
       "      <th>1</th>\n",
       "      <td>2012-11-14 10:29:07.947</td>\n",
       "      <td>Encaminhado à(ao) SECAP(SGM) através da guia d...</td>\n",
       "      <td>2650716176154324097</td>\n",
       "      <td>https://dadosabertos.camara.leg.br/api/v2propo...</td>\n",
       "      <td>180.0</td>\n",
       "    </tr>\n",
       "  </tbody>\n",
       "</table>\n",
       "</div>"
      ],
      "text/plain": [
       "           data_tramitacao                                           despacho  \\\n",
       "0  2012-11-14 09:26:42.770            Encaminhado  à CEDI (Legislação Citada)   \n",
       "1  2012-11-14 10:29:07.947  Encaminhado à(ao) SECAP(SGM) através da guia d...   \n",
       "\n",
       "         id_tramitacao                                     url_proposicao  \\\n",
       "0  8002015931446589096  https://dadosabertos.camara.leg.br/api/v2propo...   \n",
       "1  2650716176154324097  https://dadosabertos.camara.leg.br/api/v2propo...   \n",
       "\n",
       "   id_tipo_tramitacao  \n",
       "0              1004.0  \n",
       "1               180.0  "
      ]
     },
     "execution_count": 28,
     "metadata": {},
     "output_type": "execute_result"
    }
   ],
   "source": [
    "tramitacao.head(2)"
   ]
  },
  {
   "cell_type": "code",
   "execution_count": 8,
   "metadata": {
    "collapsed": false
   },
   "outputs": [
    {
     "data": {
      "text/html": [
       "<div>\n",
       "<table border=\"1\" class=\"dataframe\">\n",
       "  <thead>\n",
       "    <tr style=\"text-align: right;\">\n",
       "      <th></th>\n",
       "      <th>despacho</th>\n",
       "    </tr>\n",
       "    <tr>\n",
       "      <th>id_tramitacao</th>\n",
       "      <th></th>\n",
       "    </tr>\n",
       "  </thead>\n",
       "  <tbody>\n",
       "    <tr>\n",
       "      <th>8002015931446589096</th>\n",
       "      <td>Encaminhado  à CEDI (Legislação Citada)</td>\n",
       "    </tr>\n",
       "    <tr>\n",
       "      <th>2650716176154324097</th>\n",
       "      <td>Encaminhado à(ao) SECAP(SGM) através da guia d...</td>\n",
       "    </tr>\n",
       "    <tr>\n",
       "      <th>-196971664076291196</th>\n",
       "      <td>Recebimento pela SECAP(SGM).</td>\n",
       "    </tr>\n",
       "    <tr>\n",
       "      <th>8585474523962609006</th>\n",
       "      <td>Despacho a Confirmar.</td>\n",
       "    </tr>\n",
       "    <tr>\n",
       "      <th>-6422440940781616439</th>\n",
       "      <td>Despacho Chancelado</td>\n",
       "    </tr>\n",
       "    <tr>\n",
       "      <th>3021769259120474245</th>\n",
       "      <td>Notificação à Sinopse de Despacho Chancelado</td>\n",
       "    </tr>\n",
       "    <tr>\n",
       "      <th>-8736522632657512325</th>\n",
       "      <td>Às Comissões de Desenvolvimento Econômico, Ind...</td>\n",
       "    </tr>\n",
       "    <tr>\n",
       "      <th>7453176205408749369</th>\n",
       "      <td>Encaminhamento de Despacho de Distribuição à C...</td>\n",
       "    </tr>\n",
       "    <tr>\n",
       "      <th>4182714113683764946</th>\n",
       "      <td>Encaminhado à(ao) CCP através da guia de Remes...</td>\n",
       "    </tr>\n",
       "    <tr>\n",
       "      <th>3136047376813907464</th>\n",
       "      <td>Recebimento pela CCP.</td>\n",
       "    </tr>\n",
       "  </tbody>\n",
       "</table>\n",
       "</div>"
      ],
      "text/plain": [
       "                                                               despacho\n",
       "id_tramitacao                                                          \n",
       "8002015931446589096             Encaminhado  à CEDI (Legislação Citada)\n",
       "2650716176154324097   Encaminhado à(ao) SECAP(SGM) através da guia d...\n",
       "-196971664076291196                        Recebimento pela SECAP(SGM).\n",
       "8585474523962609006                               Despacho a Confirmar.\n",
       "-6422440940781616439                                Despacho Chancelado\n",
       "3021769259120474245        Notificação à Sinopse de Despacho Chancelado\n",
       "-8736522632657512325  Às Comissões de Desenvolvimento Econômico, Ind...\n",
       "7453176205408749369   Encaminhamento de Despacho de Distribuição à C...\n",
       "4182714113683764946   Encaminhado à(ao) CCP através da guia de Remes...\n",
       "3136047376813907464                               Recebimento pela CCP."
      ]
     },
     "execution_count": 8,
     "metadata": {},
     "output_type": "execute_result"
    }
   ],
   "source": [
    "#Somente o id_tramitacao e o despacho são interessantes para o estudo\n",
    "\n",
    "tramitacao = tramitacao[['id_tramitacao', 'despacho']]\n",
    "tramitacao.set_index('id_tramitacao', inplace=True)\n",
    "tramitacao = tramitacao.dropna()\n",
    "tramitacao.head(10)"
   ]
  },
  {
   "cell_type": "markdown",
   "metadata": {},
   "source": [
    "#### 3) Preparando o corpus sem e com steeming"
   ]
  },
  {
   "cell_type": "code",
   "execution_count": 40,
   "metadata": {
    "collapsed": false
   },
   "outputs": [],
   "source": [
    "# Preparando o text com Stemming\n",
    "tramitacao_stem['despacho'] = tramitacao['despacho'].apply(lambda texto: [stemmer.stem(token.lower()) for token in WordPunctTokenizer().tokenize(texto) \n",
    "                                if token not in swu])\n",
    "pickle.dump(tramitacao_stem, open('csvs/tramitacao_stem.p', 'wb') )"
   ]
  },
  {
   "cell_type": "code",
   "execution_count": 10,
   "metadata": {
    "collapsed": false
   },
   "outputs": [],
   "source": [
    "# Sem stemming\n",
    "tramitacao['despacho'] = tramitacao['despacho'].apply(lambda texto: [token.lower() for token in WordPunctTokenizer().tokenize(texto) \n",
    "                                if token not in swu])\n",
    "pickle.dump(tramitacao, open('csvs/tramitacao.p', 'wb') )"
   ]
  },
  {
   "cell_type": "code",
   "execution_count": 32,
   "metadata": {
    "collapsed": false
   },
   "outputs": [],
   "source": [
    "tramitacao_stem = pickle.load(open('csvs/tramitacao_stem.p', 'rb'))\n",
    "tramitacao      = pickle.load(open('csvs/tramitacao.p', 'rb'))"
   ]
  },
  {
   "cell_type": "markdown",
   "metadata": {},
   "source": [
    "#### 4) Criando indices\n",
    "\n",
    "Usarei somente 10% do corpus por conta da velocidade de processamento e de tamanho dos arquivos."
   ]
  },
  {
   "cell_type": "code",
   "execution_count": 35,
   "metadata": {
    "collapsed": false
   },
   "outputs": [],
   "source": [
    "tramitacao_reduce = tramitacao.iloc[:int(len(tramitacao)/10)]"
   ]
  },
  {
   "cell_type": "code",
   "execution_count": 39,
   "metadata": {
    "collapsed": false
   },
   "outputs": [],
   "source": [
    "tramitacao_stem_reduce = tramitacao_stem.loc[list(tramitacao_reduce.index)]"
   ]
  },
  {
   "cell_type": "code",
   "execution_count": 38,
   "metadata": {
    "collapsed": true
   },
   "outputs": [],
   "source": [
    "def default_to_dict(dic):\n",
    "    for key in dic.keys():\n",
    "        dic[key] = dict(dic[key])\n",
    "    return dict(dic)"
   ]
  },
  {
   "cell_type": "code",
   "execution_count": 41,
   "metadata": {
    "collapsed": false
   },
   "outputs": [
    {
     "name": "stderr",
     "output_type": "stream",
     "text": [
      "137993it [00:33, 4172.39it/s]\n"
     ]
    }
   ],
   "source": [
    "# indice normal\n",
    "\n",
    "indice = defaultdict(lambda: defaultdict(lambda: []))\n",
    "\n",
    "for i, row in tqdm.tqdm(enumerate(tramitacao_reduce.iterrows())):\n",
    "    for j, token in enumerate(row[1]['despacho']):\n",
    "        indice[token][row[0]].append(j)\n",
    "\n",
    "        \n",
    "pickle.dump(default_to_dict(indice), open('csvs/indice.p', 'wb'))"
   ]
  },
  {
   "cell_type": "code",
   "execution_count": 49,
   "metadata": {
    "collapsed": false
   },
   "outputs": [
    {
     "name": "stderr",
     "output_type": "stream",
     "text": [
      "138181it [00:37, 3677.52it/s]\n"
     ]
    }
   ],
   "source": [
    "# indice stemmed\n",
    "\n",
    "indice_stem = defaultdict(lambda: defaultdict(lambda: []))\n",
    "\n",
    "for i, row in tqdm.tqdm(enumerate(tramitacao_stem_reduce.iterrows())):\n",
    "\n",
    "    if not isinstance(row[1]['despacho'], float):\n",
    "        for j, token in enumerate(row[1]['despacho']):\n",
    "            indice_stem[token][row[0]].append(j)\n",
    "        \n",
    "pickle.dump(default_to_dict(indice_stem), open('csvs/indice_stem.p', 'wb'))"
   ]
  },
  {
   "cell_type": "code",
   "execution_count": 18,
   "metadata": {
    "collapsed": true
   },
   "outputs": [],
   "source": [
    "indice_stem = pickle.load(open('csvs/indice_stem.p', 'rb'))\n",
    "indice     = pickle.load(open('csvs/indice.p', 'rb'))"
   ]
  },
  {
   "cell_type": "markdown",
   "metadata": {},
   "source": [
    "## Exercício 1: Truncagem e revocação.\n",
    "\n",
    "Baseando-se no indice invertido construído na prática 1, Calcule a diferença de revocação com e sem a utilização de \"stemming\", ou truncagem na construção do índice."
   ]
  },
  {
   "cell_type": "code",
   "execution_count": 76,
   "metadata": {
    "collapsed": false
   },
   "outputs": [
    {
     "name": "stdout",
     "output_type": "stream",
     "text": [
      "Quantidade de Resultados Stemmizado: \n",
      "4\n",
      "Quantidade de Resultados Não Stemmizado: \n",
      "3\n",
      "Revocação:\n",
      "75.0\n"
     ]
    }
   ],
   "source": [
    "palavra = 'industria'\n",
    "\n",
    "res_stem = len(indice_stem[stemmer.stem(palavra)])\n",
    "print('Quantidade de Resultados Stemmizado: ')\n",
    "print(res_stem)\n",
    "\n",
    "res = len(indice[palavra])\n",
    "print('Quantidade de Resultados Não Stemmizado: ')\n",
    "print(res)\n",
    "\n",
    "print('Revocação:')\n",
    "print((res/res_stem)*100)"
   ]
  },
  {
   "cell_type": "code",
   "execution_count": 19,
   "metadata": {
    "collapsed": false
   },
   "outputs": [],
   "source": [
    "# agora calculando usando bootstap para ver se realmente temos uma variação significativa de revocação\n",
    "hist = defaultdict(lambda: list())\n",
    "\n",
    "for palavra in list(indice.keys()):\n",
    "    \n",
    "    stem = len(indice_stem[stemmer.stem(palavra)])\n",
    "    if stem != 0:     \n",
    "        revocacao = len(indice[palavra]) / stem\n",
    "        hist[len(palavra)].append(revocacao)\n"
   ]
  },
  {
   "cell_type": "code",
   "execution_count": 20,
   "metadata": {
    "collapsed": false
   },
   "outputs": [],
   "source": [
    "plot = {}\n",
    "for key, values in hist.items():\n",
    "    plot[key] = (np.array(hist[key]).mean(), np.array(hist[key]).std())"
   ]
  },
  {
   "cell_type": "code",
   "execution_count": 28,
   "metadata": {
    "collapsed": false
   },
   "outputs": [
    {
     "name": "stdout",
     "output_type": "stream",
     "text": [
      "Revocacao = Normal / Não Stemmizado\n"
     ]
    },
    {
     "data": {
      "image/png": "[encoded data removed]",
      "text/plain": [
       "<matplotlib.figure.Figure at 0x12afb41d0>"
      ]
     },
     "metadata": {},
     "output_type": "display_data"
    }
   ],
   "source": [
    "pd.DataFrame(plot).T.plot(y=0, yerr=1, title='Revocacao por Tamanho da Palavra')\n",
    "print(\"Revocacao = Normal / Não Stemmizado\")"
   ]
  },
  {
   "cell_type": "markdown",
   "metadata": {},
   "source": [
    "Aqui, a revocação foi calculada como a proporção entre o resultado de stemming com o resultado sem stemming, $Rev = Res/Res_{stem}$.\n",
    "\n",
    "No gráfico de $Rev$ por tamanho da palavra podemos ver que a revocação é perto de 1 para palavras até 3. Conforme as palavras vão aumentando o $Rev$ vai diminuindo até atingir seu mínimo por volta de 11. A partir de 12, passa a aumentar até voltar novamente para 1 para tamanho de palavra maior que 20.\n",
    "\n",
    "Esse padrão indica que as palavras grandes desse corpus não são stemmizadas pois podem "
   ]
  },
  {
   "cell_type": "code",
   "execution_count": 36,
   "metadata": {
    "collapsed": false
   },
   "outputs": [],
   "source": [
    "\n"
   ]
  },
  {
   "cell_type": "markdown",
   "metadata": {},
   "source": [
    "## Exercício 2: Expansão de consultas\n",
    "\n",
    "Crie grupos de equivalência para alguns termos de busca e calcule a diferença em termos de revocação e, possivelmente precisão, na resposta a consultas expandidas e não expandidas. Dica: use tempos verbais, pluralização, sinônimos, etc."
   ]
  },
  {
   "cell_type": "code",
   "execution_count": 45,
   "metadata": {
    "collapsed": false
   },
   "outputs": [
    {
     "name": "stdout",
     "output_type": "stream",
     "text": [
      "Documentos encontrados sem Stem:\n",
      "industria: 3\n",
      "industrial: 27\n",
      "industrializado: 27\n",
      "industrializacao: 27\n",
      "maquinário: 27\n",
      "\n",
      "TOTAL: 30\n",
      "\n",
      "\n",
      "Documentos encontrados com Stem:\n",
      "industria: 4\n",
      "industrial: 27\n",
      "industrializado: 33\n",
      "industrializacao: 33\n",
      "maquinário: 33\n",
      "\n",
      "TOTAL: 64\n",
      "REVOCACAO: 46.875 %\n",
      "Não entendi o que é precisão.\n"
     ]
    }
   ],
   "source": [
    "termos = ['industria', 'industrial', 'industrializado', 'industrializacao', 'maquinário']\n",
    "\n",
    "\n",
    "resultado = set()\n",
    "\n",
    "\n",
    "print('Documentos encontrados sem Stem:')\n",
    "for termo in termos:\n",
    "    try:\n",
    "        documentos = indice[termo]\n",
    "    except KeyError:\n",
    "        pass\n",
    "    resultado.update(documentos)\n",
    "    print('{}: {}'.format(termo, len(documentos)))\n",
    "\n",
    "print('')\n",
    "print('TOTAL: {}'.format(len(resultado)))\n",
    "\n",
    "res = resultado\n",
    "\n",
    "resultado = set()\n",
    "print('\\n\\nDocumentos encontrados com Stem:')\n",
    "for termo in termos:\n",
    "    try:\n",
    "        documentos = indice_stem[stemmer.stem(termo)]\n",
    "    except KeyError:\n",
    "        pass\n",
    "    resultado.update(documentos)\n",
    "    print('{}: {}'.format(termo, len(documentos)))\n",
    "\n",
    "print('')\n",
    "print('TOTAL: {}'.format(len(resultado)))\n",
    "res_stem = resultado\n",
    "\n",
    "print('REVOCACAO:', len(res) / len(res_stem) *100, '%')\n",
    "print(\"Não entendi o que é precisão.\")"
   ]
  },
  {
   "cell_type": "markdown",
   "metadata": {},
   "source": [
    "## Exercício 3: Verificação ortográfica\n",
    "\n",
    "Implemente uma expansão de consulta por meio da correção ortográfica. Utilize o corretor ortográfico Pyenchant para fazer as correções."
   ]
  },
  {
   "cell_type": "code",
   "execution_count": 1,
   "metadata": {
    "collapsed": true
   },
   "outputs": [],
   "source": [
    "import enchant"
   ]
  },
  {
   "cell_type": "code",
   "execution_count": 2,
   "metadata": {
    "collapsed": false
   },
   "outputs": [],
   "source": [
    "d = enchant.Dict(\"pt_BR\")"
   ]
  },
  {
   "cell_type": "markdown",
   "metadata": {},
   "source": [
    "#### Vamos implementar uma função que checa as palavras de busca e sugere novas palavras se algo estiver errado"
   ]
  },
  {
   "cell_type": "code",
   "execution_count": 13,
   "metadata": {
    "collapsed": true
   },
   "outputs": [],
   "source": [
    "def busca_certa(palavra):\n",
    "    \n",
    "    if not d.check(palavra):\n",
    "        \n",
    "        print('Você quis dizer: ')\n",
    "        for p in d.suggest(palavra)[:5]:\n",
    "            print('-', p)"
   ]
  },
  {
   "cell_type": "code",
   "execution_count": 14,
   "metadata": {
    "collapsed": false
   },
   "outputs": [
    {
     "name": "stdout",
     "output_type": "stream",
     "text": [
      "Você quis dizer: \n",
      "- industria\n",
      "- nêustria\n",
      "- industriária\n",
      "- industriosa\n",
      "- industrioso\n"
     ]
    }
   ],
   "source": [
    "busca_certa('ndustria')"
   ]
  },
  {
   "cell_type": "markdown",
   "metadata": {},
   "source": [
    "## Exercício 4: Consultas por frases\n",
    "\n",
    "Implemente um indice invertido que permita consulta por frases, conforme definido na aula 2."
   ]
  },
  {
   "cell_type": "code",
   "execution_count": 49,
   "metadata": {
    "collapsed": true
   },
   "outputs": [],
   "source": [
    "def busca_frase(frase, indice, distancia = 1, ordem_mantida = True, remove_stopwords = True,):\n",
    "    \n",
    "    ''' \n",
    "    AUTOR: Thiago Trabach\n",
    "    \n",
    "    OBJETIVO:\n",
    "    Buscar uma frase, exata ou não, dentro dentro de uma coleção de documentos\n",
    "    \n",
    "    INPUTS:\n",
    "        frase: frase que será buscada.\n",
    "        indice: indice invertido onde será buscado\n",
    "        distancia: distancia máxima entre os termos da frase.\n",
    "        ordem_mantida: se a ordem dos termos devem ser mantidas ou se é aceito permutações dos termos\n",
    "           OBS: Utilizar distancia = 1 e ordem_mantida = True para buscar a frase exata\n",
    "        remove_stopwords: remove stopwords e pontuanções do termo buscado.\n",
    "            OBS: esse parâmetro deverá ser mantido em True visto que o indíce não recebe stopwords nem pontuação\n",
    "        \n",
    "    OUTPUTS:\n",
    "        1) Indice do documento e indice das palvras buscadas dentro do documento\n",
    "    '''\n",
    "    \n",
    "\n",
    "    ######\n",
    "    ##NORMALIZA DOS DADOS\n",
    "    \n",
    "    #quebra o termo de busca\n",
    "    if remove_stopwords:\n",
    "        termo_tokenizado = [token.lower()  for token in WordPunctTokenizer().tokenize(frase) if token not in swu]\n",
    "    else:\n",
    "        termo_tokenizado =[token.lower()  for token in WordPunctTokenizer().tokenize(frase)]\n",
    "\n",
    "    \n",
    "    ######\n",
    "    ##TRATAMENTO DE ERROS\n",
    "    \n",
    "    #Comprimento da frase tokeniza menor que 2\n",
    "    if len(termo_tokenizado) < 2: \n",
    "        operadores_logicos = termo_tokenizado[1:len(termo_tokenizado):2]\n",
    "        operadores_logicos = set([operador.lower () for operador in operadores_logicos])\n",
    "\n",
    "        if len(operadores_logicos - set(['and', 'or', 'not'])) > 0:\n",
    "            sys.exit('Falta(m) operador(es) logíco(s) entre os termos pesquisados')\n",
    "\n",
    "        \n",
    "    ######\n",
    "    ##CONSULTA OS DOCUMENTOS EM COMUM\n",
    "\n",
    "    #encontra o vetor de resultados. Cada elemento da lista é o resultado da consulta pora um termo tokenizado\n",
    "    vetor_documentos = []\n",
    "\n",
    "    for termo in termo_tokenizado:\n",
    "        vetor_documentos.append(indice[termo].keys())\n",
    "\n",
    "\n",
    "    #encontra o documentos que tem em comum para todos os termos\n",
    "    documentos_comum = set(vetor_documentos[0])\n",
    "\n",
    "    for documentos in vetor_documentos:\n",
    "        documentos_comum.intersection_update(set(documentos))\n",
    "\n",
    "        \n",
    "        \n",
    "    ######\n",
    "    ##CONSULTA A PROXIMIDADE DOS TERMOS DENTRO DOS DOCUMENTOS\n",
    "        \n",
    "    resultado = defaultdict(list)\n",
    "\n",
    "    #verifica nos documentos em comum se os termos são sequencias\n",
    "    for documento in documentos_comum:\n",
    "        vetor_posicoes = []\n",
    "\n",
    "        for termo in termo_tokenizado:\n",
    "            vetor_posicoes.append(indice[termo][documento])\n",
    "\n",
    "        for i in vetor_posicoes[0]:\n",
    "\n",
    "            for j in vetor_posicoes[1]:\n",
    "\n",
    "                posições = [i,j]\n",
    "\n",
    "\n",
    "                if abs(posições[1] - posições[0]) <= distancia:\n",
    "\n",
    "                    if ordem_mantida:\n",
    "                        if (posições[1] - posições[0]) > 0:\n",
    "                            resultado[documento].append([posições[0],posições[1]])\n",
    "\n",
    "                    else:\n",
    "                        resultado[documento].append([posições[0],posições[1]])    \n",
    "\n",
    "\n",
    "                if posições[1] - posições[0] > distancia:\n",
    "                    break\n",
    "\n",
    "        \n",
    "        #caso haja mais de dois termos pesquisados, a iteração segue para os demais termos\n",
    "        if len(termo_tokenizado) > 2:\n",
    "            for indice_termo in range(2,len(termo_tokenizado)):\n",
    "                for indice_lista, lista in enumerate(resultado[documento]):\n",
    "                    for j in vetor_posicoes[indice_termo]:\n",
    "\n",
    "                        posições = [lista[-1],j]\n",
    "\n",
    "\n",
    "                        if abs(posições[1] - posições[0]) <= distancia:\n",
    "\n",
    "                            if ordem_mantida:\n",
    "                                if (posições[1] - posições[0]) > 0:\n",
    "                                    resultado[documento][indice_lista].append(posições[1])\n",
    "\n",
    "                            else:\n",
    "                                resultado[documento][indice_lista].append(posições[1])    \n",
    "\n",
    "\n",
    "                        if posições[1] - posições[0] > distancia:\n",
    "                            break\n",
    "\n",
    "    \n",
    "    \n",
    "    ######\n",
    "    ##RESULTADO\n",
    "\n",
    "    #retira as entradas vazias do resultado\n",
    "    resultado = {key: value for key, value in resultado.items() if len(value) > 0}\n",
    "    \n",
    "    #mantém somente os resultados que contenham todos termos pesquisados\n",
    "    resultado_filtrado = defaultdict(list)\n",
    "\n",
    "    for i in resultado.keys():\n",
    "        for j in resultado[i]:\n",
    "            if len(j) == len(termo_tokenizado):\n",
    "                resultado_filtrado[i].append(j)\n",
    "                \n",
    "\n",
    "    return resultado_filtrado  "
   ]
  },
  {
   "cell_type": "code",
   "execution_count": 72,
   "metadata": {
    "collapsed": false
   },
   "outputs": [
    {
     "data": {
      "text/plain": [
       "defaultdict(list,\n",
       "            {'-2672507519610056171': [[31, 32]],\n",
       "             '-4844315106079736070': [[42, 43]],\n",
       "             '-8168836824864880862': [[24, 25]],\n",
       "             '4923541632460110576': [[25, 26]],\n",
       "             '4988797239248753161': [[23, 24]],\n",
       "             '5738628777116837681': [[33, 34]]})"
      ]
     },
     "execution_count": 72,
     "metadata": {},
     "output_type": "execute_result"
    }
   ],
   "source": [
    "busca_frase('luiz inácio', indice)"
   ]
  },
  {
   "cell_type": "code",
   "execution_count": 75,
   "metadata": {
    "collapsed": false
   },
   "outputs": [
    {
     "data": {
      "text/plain": [
       "defaultdict(list,\n",
       "            {'-3562477187949878455': [[11, 12]],\n",
       "             '-3630235699500809805': [[27, 28]],\n",
       "             '-5654075775677250254': [[11, 12]],\n",
       "             '-7788344699786316952': [[11, 12]],\n",
       "             '3735344861791779019': [[16, 17]],\n",
       "             '6044210032639350457': [[11, 12]],\n",
       "             '7433847566801444984': [[11, 12]],\n",
       "             '7734840251668079370': [[11, 12]],\n",
       "             '8764857732550013136': [[12, 13]]})"
      ]
     },
     "execution_count": 75,
     "metadata": {},
     "output_type": "execute_result"
    }
   ],
   "source": [
    "busca_frase('marta suplicy', indice)"
   ]
  },
  {
   "cell_type": "markdown",
   "metadata": {},
   "source": [
    "## Exercício 5: Consulta híbrida.\n",
    "\n",
    "Modifique a solução acima para permitir respostas alternativas caso a frase não retorne resultados. Por exemplo, retornar, documentos que contenham parte da frase, ou uma busca booleana simples combinando as palavras da frase.\n"
   ]
  },
  {
   "cell_type": "markdown",
   "metadata": {},
   "source": [
    "Para melhorar a busca vamos criar uma função que desativa a ordem obrigatória e que aumenta a distância possível entre as palavras"
   ]
  },
  {
   "cell_type": "code",
   "execution_count": 101,
   "metadata": {
    "collapsed": false
   },
   "outputs": [],
   "source": [
    "def busca_soft(frase, indice):\n",
    "    \n",
    "    res = busca_frase(frase, indice)\n",
    "    \n",
    "    l_res = len(res)\n",
    "    \n",
    "    d = 2\n",
    "    while (l_res == 0) and (d < 30):\n",
    "        res = busca_frase(frase, indice, distancia = d)\n",
    "        l_res = len(res)\n",
    "        d = d + 1\n",
    "    \n",
    "    d = 2\n",
    "    l_res = 0\n",
    "    while (l_res == 0) and (d < 30):\n",
    "        res = busca_frase(frase, indice, distancia = d, ordem_mantida=False)\n",
    "        l_res = len(res)\n",
    "        d = d + 1\n",
    "    \n",
    "    \n",
    "    return(res)"
   ]
  },
  {
   "cell_type": "code",
   "execution_count": 102,
   "metadata": {
    "collapsed": false
   },
   "outputs": [
    {
     "data": {
      "text/plain": [
       "defaultdict(list,\n",
       "            {'4924998282302483866': [[1, 3, 4]],\n",
       "             '-1884126250309085187': [[1, 3, 4]],\n",
       "             '5200538794891779765': [[1, 3, 4]],\n",
       "             '4948327704877527639': [[4, 6, 7]],\n",
       "             '-4681917268696757934': [[1, 3, 4]],\n",
       "             '-2726065397219045312': [[3, 5, 6]],\n",
       "             '3653333955886040623': [[1, 3, 4]],\n",
       "             '5746368506724605111': [[1, 3, 4]],\n",
       "             '2712723049435368817': [[1, 3, 4]],\n",
       "             '-2788871196882273495': [[1, 3, 4]],\n",
       "             '3364287253975852354': [[1, 3, 4]],\n",
       "             '6204436362135966332': [[1, 3, 4]],\n",
       "             '4141806798746256234': [[1, 3, 4]],\n",
       "             907533705298937132: [[1, 3, 4]],\n",
       "             '-148243945892712023': [[1, 3, 4]],\n",
       "             '5929372476653088788': [[1, 3, 4]],\n",
       "             '5846620720452562565': [[3, 5, 6]],\n",
       "             '-9088503719584354502': [[3, 5, 6]]})"
      ]
     },
     "execution_count": 102,
     "metadata": {},
     "output_type": "execute_result"
    }
   ],
   "source": [
    "busca_soft('relator eduardo cunha', indice)"
   ]
  },
  {
   "cell_type": "code",
   "execution_count": 103,
   "metadata": {
    "collapsed": false
   },
   "outputs": [
    {
     "data": {
      "text/plain": [
       "defaultdict(list,\n",
       "            {'4924998282302483866': [[3, 1, 4]],\n",
       "             '-1884126250309085187': [[3, 1, 4]],\n",
       "             '5200538794891779765': [[3, 1, 4]],\n",
       "             '4948327704877527639': [[6, 4, 7]],\n",
       "             '-4681917268696757934': [[3, 1, 4]],\n",
       "             '-2726065397219045312': [[5, 3, 6]],\n",
       "             '3653333955886040623': [[3, 1, 4]],\n",
       "             '5746368506724605111': [[3, 1, 4]],\n",
       "             '2712723049435368817': [[3, 1, 4]],\n",
       "             '-2788871196882273495': [[3, 1, 4]],\n",
       "             '3364287253975852354': [[3, 1, 4]],\n",
       "             '6204436362135966332': [[3, 1, 4]],\n",
       "             '4141806798746256234': [[3, 1, 4]],\n",
       "             907533705298937132: [[3, 1, 4]],\n",
       "             '-148243945892712023': [[3, 1, 4]],\n",
       "             '5929372476653088788': [[3, 1, 4]],\n",
       "             '5846620720452562565': [[5, 3, 6]],\n",
       "             '-9088503719584354502': [[5, 3, 6]]})"
      ]
     },
     "execution_count": 103,
     "metadata": {},
     "output_type": "execute_result"
    }
   ],
   "source": [
    "busca_soft('eduardo relator cunha', indice)"
   ]
  },
  {
   "cell_type": "code",
   "execution_count": null,
   "metadata": {
    "collapsed": true
   },
   "outputs": [],
   "source": []
  }
 ],
 "metadata": {
  "kernelspec": {
   "display_name": "Python 3",
   "language": "python",
   "name": "python3"
  },
  "language_info": {
   "codemirror_mode": {
    "name": "ipython",
    "version": 3
   },
   "file_extension": ".py",
   "mimetype": "text/x-python",
   "name": "python",
   "nbconvert_exporter": "python",
   "pygments_lexer": "ipython3",
   "version": "3.5.2"
  },
  "widgets": {
   "state": {},
   "version": "1.1.2"
  }
 },
 "nbformat": 4,
 "nbformat_minor": 0
}
