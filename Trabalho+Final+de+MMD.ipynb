{
 "cells": [
  {
   "cell_type": "markdown",
   "metadata": {},
   "source": [
    "### Análise de Apoio do Congresso ao Governo Federal\n",
    "\n",
    "João Carabetta\n",
    "\n",
    "Prof. Renato R Souza\n",
    "\n",
    "Neste trabalho explorarei a base de votos da Camara Federal Brasileira com o intuito de investigar a dinâmica de apoio da Câmara ao Governo Federal. Esse é um assunto interessante pois no modelo tripartite presidencialista brasileiro, o governo federal deve ter apoio da Camara para se sustentar no poder e conseguir legislar ao seu favor.\n",
    "\n",
    "O trabalho está organizado por:\n",
    "\n",
    "- Hipótese\n",
    "\n",
    "- Captura\n",
    "\n",
    "- Tratamento dos dados\n",
    "\n",
    "- Gráfico Interativo \n",
    "\n",
    "- Rede Neural de Predição (Extra)\n",
    "\n",
    "\n",
    "#### Hipóteses\n",
    "\n",
    "As minhas hipóteses iniciais são fracas e poucas pois os dados ainda estão inexplorados, mas algumas ideias são:\n",
    "\n",
    "- O apoio da Dilma perto do seu impeachment era baixo\n",
    "\n",
    "- O apoio do Lula pós mensalão abaixou\n",
    "\n",
    "- O apoio do Temer pós impeachment era muito alto e se manteve até os dias de hoje\n",
    "\n",
    "- Existe uma polarização clara entre PSDB e PT, enquanto PMDB sempre se manteve na base governista"
   ]
  },
  {
   "cell_type": "markdown",
   "metadata": {},
   "source": [
    "#### Captura\n",
    "\n",
    "A captura dos dados foi feita diretamente da API da Câmara dos Deputados. Parte dela já estava no banco de dados do CTS e outra parte foi escrita por mim. Porém, não mostrarei os scripts. Portanto, podemos considerar que as informações são coletadas diretamente de um banco de dados. "
   ]
  },
  {
   "cell_type": "code",
   "execution_count": 2,
   "metadata": {
    "collapsed": true
   },
   "outputs": [],
   "source": [
    "import sqlalchemy\n",
    "from sqlalchemy.sql import text\n",
    "import pandas as pd\n",
    "import glob\n",
    "import os\n",
    "import pickle\n",
    "import numpy as np\n",
    "import tqdm\n",
    "import yaml"
   ]
  },
  {
   "cell_type": "code",
   "execution_count": 3,
   "metadata": {
    "collapsed": true
   },
   "outputs": [],
   "source": [
    "#### CONECTA AO BANCO\n",
    "\n",
    "with open('server_config.yaml', 'r') as f:\n",
    "        server = yaml.load(f)\n",
    "\n",
    "host = server['host']\n",
    "database = server['database']\n",
    "user = server['user']\n",
    "password = server['password']\n",
    "\n",
    "url = 'postgresql://{}:{}@{}/{}'\n",
    "url = url.format(user, password, host, database)\n",
    "conn = sqlalchemy.create_engine(url)"
   ]
  },
  {
   "cell_type": "markdown",
   "metadata": {},
   "source": [
    "#### Tratamento dos dados\n",
    "\n",
    "Para entender o tratamento necessário dos dados é preciso entender o tipo de informação a API da Câmara oferece e o processo legislativo decisório.\n",
    "\n",
    "Bom, antes de votar, os partidos, blocos e o representante do governo na Camara orientam o voto dos parlamentares. Por exemplo, para uma certa Lei o **PSDB** pode orientar **não**, o bloco **PT/PCdoB** orientam **sim** e o governo **libera** o voto.\n",
    "\n",
    "Depois dessa orientação, cada parlamentar vota de acordo com a sua consciência que pode ser orientada por seu partido, bloco ou pelo governo. \n",
    "\n",
    "Portanto, temos que organizar os dados das bases de orientação dos partidos, blocos e governo para conversar com a base de voto parlamentar. Para isso, criei um hash para cada votação que tem como id o codproposicao e o codsessao.\n",
    "\n",
    "Um problma comum dos dados é que os partidos se fundem, acabam, mudam de nome, para isso criei uma com a relação de todos os partidos que mudaram."
   ]
  },
  {
   "cell_type": "code",
   "execution_count": 5,
   "metadata": {
    "collapsed": true
   },
   "outputs": [],
   "source": [
    "partidos = ['PMDB','PTB','PPB','PL','PST','PTR','PRS','PDC','PDS', 'PPR','PRN', 'PAN','PRONA','PTDOB', 'PMR','PFL','SDD', 'SD','PDT','PT','DEM','PCDOB','PSB','PSDB','PTC','PSC','PMN','PRP','PPS','PV','PTdoB','PP','PSTU','PCB','PRTB','PHS','PSDC','PCO','PTN','PSL','PRB','PSOL','PR','PSD','PPL','PEN','PROS','SOLIDARIED','NOVO','REDE','PMB']\n",
    "blocos   = ['GOV', 'MINORIA', 'MAIORIA', 'APOIO AO GOVERNO']\n",
    "relacoes = {'SD': ['SDD', 'SOLIDARIED', 'SD'],\n",
    "           'GOV': ['APOIO AO GOVERNO', 'GOV', 'GOV.'],\n",
    "           'DEM': ['DEM', 'PFL'],\n",
    "           'PR': ['PRONA', 'PL', 'PR', 'PST'],\n",
    "           'PTB': ['PAN', 'PTB'],\n",
    "           'PRB': ['PRB', 'PMR'],\n",
    "           'PP': ['PP', 'PPB']}"
   ]
  },
  {
   "cell_type": "markdown",
   "metadata": {
    "collapsed": true
   },
   "source": [
    "###### Tratamento tabela votação bancada por partido \n",
    "\n",
    "Aqui, o maior desafio aqui é separar os partidos que vem agrupados na coluna Sigla. Como podemos ver temos partidos: PT, PCdoB, Governo, mas os blocos são escritos como PrPtdobPrp...\n",
    "\n",
    "Aqui, será necessário fazer um parser."
   ]
  },
  {
   "cell_type": "code",
   "execution_count": 6,
   "metadata": {
    "scrolled": true
   },
   "outputs": [
    {
     "data": {
      "text/html": [
       "<div>\n",
       "<table border=\"1\" class=\"dataframe\">\n",
       "  <thead>\n",
       "    <tr style=\"text-align: right;\">\n",
       "      <th></th>\n",
       "      <th>codproposicao</th>\n",
       "      <th>tipo</th>\n",
       "      <th>numero</th>\n",
       "      <th>ano</th>\n",
       "      <th>codsessao</th>\n",
       "      <th>datavotacao</th>\n",
       "      <th>sigla</th>\n",
       "      <th>orientacao</th>\n",
       "    </tr>\n",
       "  </thead>\n",
       "  <tbody>\n",
       "    <tr>\n",
       "      <th>0</th>\n",
       "      <td>485758</td>\n",
       "      <td>MPV</td>\n",
       "      <td>511</td>\n",
       "      <td>2010</td>\n",
       "      <td>4251</td>\n",
       "      <td>2011-04-05 17:02:00</td>\n",
       "      <td>PT</td>\n",
       "      <td>Não</td>\n",
       "    </tr>\n",
       "    <tr>\n",
       "      <th>1</th>\n",
       "      <td>113717</td>\n",
       "      <td>PEC</td>\n",
       "      <td>41</td>\n",
       "      <td>2003</td>\n",
       "      <td>835</td>\n",
       "      <td>2003-09-10 18:52:00</td>\n",
       "      <td>PT</td>\n",
       "      <td>Não</td>\n",
       "    </tr>\n",
       "    <tr>\n",
       "      <th>2</th>\n",
       "      <td>102704</td>\n",
       "      <td>MPV</td>\n",
       "      <td>80</td>\n",
       "      <td>2002</td>\n",
       "      <td>737</td>\n",
       "      <td>2003-02-26 19:14:00</td>\n",
       "      <td>PCdoB</td>\n",
       "      <td>Sim</td>\n",
       "    </tr>\n",
       "    <tr>\n",
       "      <th>3</th>\n",
       "      <td>368170</td>\n",
       "      <td>MPV</td>\n",
       "      <td>392</td>\n",
       "      <td>2007</td>\n",
       "      <td>3305</td>\n",
       "      <td>2007-11-06 20:28:00</td>\n",
       "      <td>PV</td>\n",
       "      <td>Sim</td>\n",
       "    </tr>\n",
       "    <tr>\n",
       "      <th>4</th>\n",
       "      <td>357094</td>\n",
       "      <td>PEC</td>\n",
       "      <td>98</td>\n",
       "      <td>2007</td>\n",
       "      <td>4487</td>\n",
       "      <td>2011-11-29 20:10:00</td>\n",
       "      <td>PrPtdobPrpPhsPtcPsl</td>\n",
       "      <td>Liberado</td>\n",
       "    </tr>\n",
       "  </tbody>\n",
       "</table>\n",
       "</div>"
      ],
      "text/plain": [
       "   codproposicao tipo  numero   ano  codsessao         datavotacao  \\\n",
       "0         485758  MPV     511  2010       4251 2011-04-05 17:02:00   \n",
       "1         113717  PEC      41  2003        835 2003-09-10 18:52:00   \n",
       "2         102704  MPV      80  2002        737 2003-02-26 19:14:00   \n",
       "3         368170  MPV     392  2007       3305 2007-11-06 20:28:00   \n",
       "4         357094  PEC      98  2007       4487 2011-11-29 20:10:00   \n",
       "\n",
       "                 sigla orientacao  \n",
       "0                   PT        Não  \n",
       "1                   PT        Não  \n",
       "2                PCdoB        Sim  \n",
       "3                   PV        Sim  \n",
       "4  PrPtdobPrpPhsPtcPsl   Liberado  "
      ]
     },
     "execution_count": 6,
     "metadata": {},
     "output_type": "execute_result"
    }
   ],
   "source": [
    "votacao_bancada = pd.read_sql_table('votacao_bancada', conn, schema='a_camdep')\n",
    "votacao_bancada.head()"
   ]
  },
  {
   "cell_type": "code",
   "execution_count": 7,
   "metadata": {
    "collapsed": true
   },
   "outputs": [],
   "source": [
    "# FILTRA SIGLA PARA SEPARAR POR PARTIDOS\n",
    "import re\n",
    "\n",
    "def check_partidos_blocos(sigla):\n",
    "    \"\"\"Checa se sigla está na lista de blocos ou partidos\"\"\"\n",
    "    if sigla.upper() in partidos:\n",
    "        return True\n",
    "        \n",
    "    elif sigla.upper() in blocos:\n",
    "        return True\n",
    "    \n",
    "    else:\n",
    "        return False\n",
    "\n",
    "def substitui_sigla(sigla):\n",
    "    \"\"\"\n",
    "    Substitui as siglas antigas dos partidos\n",
    "    \"\"\"\n",
    "    for final, values in relacoes.items():\n",
    "        if sigla.upper() in values:\n",
    "            return final\n",
    "    else:\n",
    "        return sigla.upper()\n",
    "            \n",
    "def filtra_sigla(sigla):\n",
    "    \"\"\"\n",
    "    Processa as siglas para separar por partidos ou blocos\n",
    "    \"\"\"\n",
    "    sigla = sigla.strip().replace('Repr.', '').strip('.')\n",
    "    \n",
    "    if '/' in sigla:\n",
    "        final = []\n",
    "        for s in sigla.split('/'):\n",
    "            if not check_partidos_blocos(s):\n",
    "                print('Partido {} não está na lista'.format(s))\n",
    "            else:\n",
    "                final.append(substitui_sigla(s))\n",
    "        return(final)\n",
    "    \n",
    "    elif check_partidos_blocos(sigla):\n",
    "        return([substitui_sigla(sigla)])\n",
    "    \n",
    "    else:\n",
    "        siglas = re.findall('[A-Z][^A-Z]*', sigla)\n",
    "        \n",
    "        if 'B' in siglas:\n",
    "            siglas.remove('B')\n",
    "            if 'Cdo' in siglas:\n",
    "                siglas.append('PCdoB')\n",
    "                siglas.remove('Cdo')\n",
    "                siglas.remove('P')\n",
    "            elif 'Tdo' in siglas:\n",
    "                siglas.append('PTdoB')\n",
    "                siglas.remove('Tdo')\n",
    "                siglas.remove('P')\n",
    "            elif 'Ptdo' in siglas:\n",
    "                siglas.append('PTdoB')\n",
    "                siglas.remove('Ptdo')\n",
    "        \n",
    "        final=[]\n",
    "        for s in siglas:\n",
    "            if not check_partidos_blocos(s):\n",
    "                print('Partido {} não está na lista'.format(s))\n",
    "            else:\n",
    "                final.append(substitui_sigla(s))\n",
    "        return(final)"
   ]
  },
  {
   "cell_type": "code",
   "execution_count": 8,
   "metadata": {},
   "outputs": [
    {
     "name": "stderr",
     "output_type": "stream",
     "text": [
      "2047it [00:03, 1353.35it/s]"
     ]
    },
    {
     "name": "stdout",
     "output_type": "stream",
     "text": [
      "Partido Pode não está na lista\n"
     ]
    },
    {
     "name": "stderr",
     "output_type": "stream",
     "text": [
      "5997it [00:05, 1696.37it/s]"
     ]
    },
    {
     "name": "stdout",
     "output_type": "stream",
     "text": [
      "Partido Pode não está na lista\n"
     ]
    },
    {
     "name": "stderr",
     "output_type": "stream",
     "text": [
      "8649it [00:06, 1834.28it/s]"
     ]
    },
    {
     "name": "stdout",
     "output_type": "stream",
     "text": [
      "Partido Pode não está na lista\n"
     ]
    },
    {
     "name": "stderr",
     "output_type": "stream",
     "text": [
      "19085it [00:13, 1334.14it/s]"
     ]
    },
    {
     "name": "stdout",
     "output_type": "stream",
     "text": [
      "Partido Pode não está na lista\n"
     ]
    },
    {
     "name": "stderr",
     "output_type": "stream",
     "text": [
      "23139it [00:15, 1619.16it/s]"
     ]
    },
    {
     "name": "stdout",
     "output_type": "stream",
     "text": [
      "Partido Pode não está na lista\n"
     ]
    },
    {
     "name": "stderr",
     "output_type": "stream",
     "text": [
      "23966it [00:16, 1525.53it/s]"
     ]
    },
    {
     "name": "stdout",
     "output_type": "stream",
     "text": [
      "Partido Pode não está na lista\n"
     ]
    },
    {
     "name": "stderr",
     "output_type": "stream",
     "text": [
      "24272it [00:16, 1463.55it/s]"
     ]
    },
    {
     "name": "stdout",
     "output_type": "stream",
     "text": [
      "Partido Pode não está na lista\n"
     ]
    },
    {
     "name": "stderr",
     "output_type": "stream",
     "text": [
      "37843it [00:24, 1522.51it/s]\n"
     ]
    }
   ],
   "source": [
    "# cia tabela por partido. Aqui tem que salvar num pickle porque não consegui resolver o erro de uma maneira mais elegante.\n",
    "\n",
    "j = 0\n",
    "for i, row in tqdm.tqdm(votacao_bancada.iterrows()):\n",
    "    \n",
    "    row = row.to_dict()\n",
    "    for sigla in filtra_sigla(row['sigla']):\n",
    "        \n",
    "        row['partido_bloco'] = sigla\n",
    "        \n",
    "        pickle.dump(row, open('temp/temp{}.p'.format(j), 'wb'))\n",
    "        j += 1"
   ]
  },
  {
   "cell_type": "code",
   "execution_count": 9,
   "metadata": {},
   "outputs": [
    {
     "name": "stderr",
     "output_type": "stream",
     "text": [
      "100%|██████████| 50852/50852 [00:11<00:00, 4267.76it/s]\n"
     ]
    }
   ],
   "source": [
    "votacao_bancada_partidos = []\n",
    "for i in tqdm.tqdm(glob.glob('temp/*.p')):\n",
    "    a = pickle.load(open(i, 'rb'))\n",
    "    votacao_bancada_partidos.append(a)\n",
    "    os.remove(i)\n",
    "votacao_bancada_partidos = pd.DataFrame(votacao_bancada_partidos)"
   ]
  },
  {
   "cell_type": "code",
   "execution_count": 12,
   "metadata": {},
   "outputs": [
    {
     "data": {
      "text/html": [
       "<div>\n",
       "<table border=\"1\" class=\"dataframe\">\n",
       "  <thead>\n",
       "    <tr style=\"text-align: right;\">\n",
       "      <th></th>\n",
       "      <th>ano</th>\n",
       "      <th>codproposicao</th>\n",
       "      <th>codsessao</th>\n",
       "      <th>datavotacao</th>\n",
       "      <th>numero</th>\n",
       "      <th>orientacao</th>\n",
       "      <th>partido_bloco</th>\n",
       "      <th>sigla</th>\n",
       "      <th>tipo</th>\n",
       "      <th>votacao_id</th>\n",
       "    </tr>\n",
       "  </thead>\n",
       "  <tbody>\n",
       "    <tr>\n",
       "      <th>0</th>\n",
       "      <td>2016</td>\n",
       "      <td>2121843</td>\n",
       "      <td>16206</td>\n",
       "      <td>2017-05-15 21:01:00</td>\n",
       "      <td>757</td>\n",
       "      <td>Liberado</td>\n",
       "      <td>REDE</td>\n",
       "      <td>Repr.REDE</td>\n",
       "      <td>MPV</td>\n",
       "      <td>-4332030268921822404</td>\n",
       "    </tr>\n",
       "    <tr>\n",
       "      <th>1</th>\n",
       "      <td>2004</td>\n",
       "      <td>159554</td>\n",
       "      <td>942</td>\n",
       "      <td>2004-05-19 17:04:00</td>\n",
       "      <td>179</td>\n",
       "      <td>Não</td>\n",
       "      <td>PTB</td>\n",
       "      <td>PTB</td>\n",
       "      <td>MPV</td>\n",
       "      <td>-3535719673027189717</td>\n",
       "    </tr>\n",
       "    <tr>\n",
       "      <th>2</th>\n",
       "      <td>2015</td>\n",
       "      <td>1150196</td>\n",
       "      <td>5580</td>\n",
       "      <td>2015-06-24 18:11:00</td>\n",
       "      <td>672</td>\n",
       "      <td>Sim</td>\n",
       "      <td>PSB</td>\n",
       "      <td>PSB</td>\n",
       "      <td>MPV</td>\n",
       "      <td>8242354298776828623</td>\n",
       "    </tr>\n",
       "    <tr>\n",
       "      <th>3</th>\n",
       "      <td>1997</td>\n",
       "      <td>25533</td>\n",
       "      <td>498</td>\n",
       "      <td>2000-06-27 18:18:00</td>\n",
       "      <td>3310</td>\n",
       "      <td>Não</td>\n",
       "      <td>PCDOB</td>\n",
       "      <td>PSB/PCDOB</td>\n",
       "      <td>PL</td>\n",
       "      <td>-1300045284638713550</td>\n",
       "    </tr>\n",
       "    <tr>\n",
       "      <th>4</th>\n",
       "      <td>2009</td>\n",
       "      <td>434563</td>\n",
       "      <td>3798</td>\n",
       "      <td>2009-08-18 17:38:00</td>\n",
       "      <td>462</td>\n",
       "      <td>Não</td>\n",
       "      <td>PRB</td>\n",
       "      <td>PsbPCdoBPmnPrb</td>\n",
       "      <td>MPV</td>\n",
       "      <td>-1095447676143465105</td>\n",
       "    </tr>\n",
       "  </tbody>\n",
       "</table>\n",
       "</div>"
      ],
      "text/plain": [
       "    ano  codproposicao  codsessao         datavotacao  numero orientacao  \\\n",
       "0  2016        2121843      16206 2017-05-15 21:01:00     757   Liberado   \n",
       "1  2004         159554        942 2004-05-19 17:04:00     179        Não   \n",
       "2  2015        1150196       5580 2015-06-24 18:11:00     672        Sim   \n",
       "3  1997          25533        498 2000-06-27 18:18:00    3310        Não   \n",
       "4  2009         434563       3798 2009-08-18 17:38:00     462        Não   \n",
       "\n",
       "  partido_bloco           sigla tipo           votacao_id  \n",
       "0          REDE       Repr.REDE  MPV -4332030268921822404  \n",
       "1           PTB             PTB  MPV -3535719673027189717  \n",
       "2           PSB             PSB  MPV  8242354298776828623  \n",
       "3         PCDOB       PSB/PCDOB   PL -1300045284638713550  \n",
       "4           PRB  PsbPCdoBPmnPrb  MPV -1095447676143465105  "
      ]
     },
     "execution_count": 12,
     "metadata": {},
     "output_type": "execute_result"
    }
   ],
   "source": [
    "# Cria Hash para a votacao e salva a nova tabela no banco\n",
    "\n",
    "votacao_bancada_partidos['votacao_id'] = votacao_bancada_partidos[['codproposicao', \n",
    "                                                       'codsessao' ,\n",
    "                                                       'datavotacao']].apply(lambda x: \n",
    "                                                                             hash(tuple(x)),\n",
    "                                                                             axis = 1)\n",
    "votacao_bancada_partidos.to_sql('votacao_bancada_partidos', conn, schema='a_camdep', if_exists='replace')\n",
    "votacao_bancada_partidos.head()"
   ]
  },
  {
   "cell_type": "markdown",
   "metadata": {},
   "source": [
    "##### Cria Tabela com Hash da Proposição\n",
    "\n",
    "Aqui, crio uma tabela somente com as infos necessárias para criar o hash da proposição. É como se fosse uma tabela conectora,"
   ]
  },
  {
   "cell_type": "code",
   "execution_count": 10,
   "metadata": {
    "collapsed": true
   },
   "outputs": [],
   "source": [
    "votacao_id_table = pd.read_sql_query('SELECT * FROM a_camdep.votacao_bancada_partidos',\n",
    "                                        conn)"
   ]
  },
  {
   "cell_type": "code",
   "execution_count": 11,
   "metadata": {},
   "outputs": [
    {
     "data": {
      "text/html": [
       "<div>\n",
       "<table border=\"1\" class=\"dataframe\">\n",
       "  <thead>\n",
       "    <tr style=\"text-align: right;\">\n",
       "      <th></th>\n",
       "      <th>index</th>\n",
       "      <th>ano</th>\n",
       "      <th>codproposicao</th>\n",
       "      <th>codsessao</th>\n",
       "      <th>datavotacao</th>\n",
       "      <th>numero</th>\n",
       "      <th>orientacao</th>\n",
       "      <th>partido_bloco</th>\n",
       "      <th>sigla</th>\n",
       "      <th>tipo</th>\n",
       "      <th>votacao_id</th>\n",
       "    </tr>\n",
       "  </thead>\n",
       "  <tbody>\n",
       "    <tr>\n",
       "      <th>0</th>\n",
       "      <td>0</td>\n",
       "      <td>2016</td>\n",
       "      <td>2121843</td>\n",
       "      <td>16206</td>\n",
       "      <td>2017-05-15 21:01:00</td>\n",
       "      <td>757</td>\n",
       "      <td>Liberado</td>\n",
       "      <td>REDE</td>\n",
       "      <td>Repr.REDE</td>\n",
       "      <td>MPV</td>\n",
       "      <td>-4332030268921822404</td>\n",
       "    </tr>\n",
       "    <tr>\n",
       "      <th>1</th>\n",
       "      <td>1</td>\n",
       "      <td>2004</td>\n",
       "      <td>159554</td>\n",
       "      <td>942</td>\n",
       "      <td>2004-05-19 17:04:00</td>\n",
       "      <td>179</td>\n",
       "      <td>Não</td>\n",
       "      <td>PTB</td>\n",
       "      <td>PTB</td>\n",
       "      <td>MPV</td>\n",
       "      <td>-3535719673027189717</td>\n",
       "    </tr>\n",
       "    <tr>\n",
       "      <th>2</th>\n",
       "      <td>2</td>\n",
       "      <td>2015</td>\n",
       "      <td>1150196</td>\n",
       "      <td>5580</td>\n",
       "      <td>2015-06-24 18:11:00</td>\n",
       "      <td>672</td>\n",
       "      <td>Sim</td>\n",
       "      <td>PSB</td>\n",
       "      <td>PSB</td>\n",
       "      <td>MPV</td>\n",
       "      <td>8242354298776828623</td>\n",
       "    </tr>\n",
       "    <tr>\n",
       "      <th>3</th>\n",
       "      <td>3</td>\n",
       "      <td>1997</td>\n",
       "      <td>25533</td>\n",
       "      <td>498</td>\n",
       "      <td>2000-06-27 18:18:00</td>\n",
       "      <td>3310</td>\n",
       "      <td>Não</td>\n",
       "      <td>PCDOB</td>\n",
       "      <td>PSB/PCDOB</td>\n",
       "      <td>PL</td>\n",
       "      <td>-1300045284638713550</td>\n",
       "    </tr>\n",
       "    <tr>\n",
       "      <th>4</th>\n",
       "      <td>4</td>\n",
       "      <td>2009</td>\n",
       "      <td>434563</td>\n",
       "      <td>3798</td>\n",
       "      <td>2009-08-18 17:38:00</td>\n",
       "      <td>462</td>\n",
       "      <td>Não</td>\n",
       "      <td>PRB</td>\n",
       "      <td>PsbPCdoBPmnPrb</td>\n",
       "      <td>MPV</td>\n",
       "      <td>-1095447676143465105</td>\n",
       "    </tr>\n",
       "  </tbody>\n",
       "</table>\n",
       "</div>"
      ],
      "text/plain": [
       "   index   ano  codproposicao  codsessao         datavotacao  numero  \\\n",
       "0      0  2016        2121843      16206 2017-05-15 21:01:00     757   \n",
       "1      1  2004         159554        942 2004-05-19 17:04:00     179   \n",
       "2      2  2015        1150196       5580 2015-06-24 18:11:00     672   \n",
       "3      3  1997          25533        498 2000-06-27 18:18:00    3310   \n",
       "4      4  2009         434563       3798 2009-08-18 17:38:00     462   \n",
       "\n",
       "  orientacao partido_bloco           sigla tipo           votacao_id  \n",
       "0   Liberado          REDE       Repr.REDE  MPV -4332030268921822404  \n",
       "1        Não           PTB             PTB  MPV -3535719673027189717  \n",
       "2        Sim           PSB             PSB  MPV  8242354298776828623  \n",
       "3        Não         PCDOB       PSB/PCDOB   PL -1300045284638713550  \n",
       "4        Não           PRB  PsbPCdoBPmnPrb  MPV -1095447676143465105  "
      ]
     },
     "execution_count": 11,
     "metadata": {},
     "output_type": "execute_result"
    }
   ],
   "source": [
    "votacao_id_table.head()"
   ]
  },
  {
   "cell_type": "code",
   "execution_count": 12,
   "metadata": {
    "collapsed": true
   },
   "outputs": [],
   "source": [
    "votacao_id_table = votacao_id_table.drop_duplicates(subset=['votacao_id'])\n",
    "votacao_id_table = votacao_id_table[['codsessao', 'datavotacao', 'codproposicao', 'votacao_id']]\n",
    "votacao_id_table.index = votacao_id_table['votacao_id']\n",
    "del votacao_id_table['votacao_id']"
   ]
  },
  {
   "cell_type": "code",
   "execution_count": 13,
   "metadata": {},
   "outputs": [
    {
     "data": {
      "text/html": [
       "<div>\n",
       "<table border=\"1\" class=\"dataframe\">\n",
       "  <thead>\n",
       "    <tr style=\"text-align: right;\">\n",
       "      <th></th>\n",
       "      <th>codsessao</th>\n",
       "      <th>datavotacao</th>\n",
       "      <th>codproposicao</th>\n",
       "    </tr>\n",
       "    <tr>\n",
       "      <th>votacao_id</th>\n",
       "      <th></th>\n",
       "      <th></th>\n",
       "      <th></th>\n",
       "    </tr>\n",
       "  </thead>\n",
       "  <tbody>\n",
       "    <tr>\n",
       "      <th>-4332030268921822404</th>\n",
       "      <td>16206</td>\n",
       "      <td>2017-05-15 21:01:00</td>\n",
       "      <td>2121843</td>\n",
       "    </tr>\n",
       "  </tbody>\n",
       "</table>\n",
       "</div>"
      ],
      "text/plain": [
       "                      codsessao         datavotacao  codproposicao\n",
       "votacao_id                                                        \n",
       "-4332030268921822404      16206 2017-05-15 21:01:00        2121843"
      ]
     },
     "execution_count": 13,
     "metadata": {},
     "output_type": "execute_result"
    }
   ],
   "source": [
    "votacao_id_table.to_sql('id_proposicao_com_orient_governo', conn, schema='desenv', if_exists='replace')\n",
    "votacao_id_table.head(1)"
   ]
  },
  {
   "cell_type": "markdown",
   "metadata": {},
   "source": [
    "#### Cria tabela com orientacao do governo"
   ]
  },
  {
   "cell_type": "code",
   "execution_count": 17,
   "metadata": {},
   "outputs": [
    {
     "data": {
      "text/plain": [
       "<sqlalchemy.engine.result.ResultProxy at 0x7fda179bab70>"
      ]
     },
     "execution_count": 17,
     "metadata": {},
     "output_type": "execute_result"
    }
   ],
   "source": [
    "query = text(\"\"\"\n",
    "        DROP TABLE IF EXISTS {0}votacao_bancada_governo;\n",
    "        CREATE TABLE {0}votacao_bancada_governo AS\n",
    "            SELECT *\n",
    "        FROM a_camdep.votacao_bancada_partidos\n",
    "        WHERE partido_bloco = 'GOV'\n",
    "        \"\"\".format(SCHEMA))\n",
    "conn.execute(query, autocommit=True)"
   ]
  },
  {
   "cell_type": "markdown",
   "metadata": {
    "collapsed": true
   },
   "source": [
    "#### Cria tabela votacao partido com governo\n",
    "\n",
    "Crio tabela de relação 0 ou 1 de acordo com a orientação do governo e do partido. Se ambos orientaram da mesma maneira, 1, se ouve discória 0. "
   ]
  },
  {
   "cell_type": "code",
   "execution_count": null,
   "metadata": {},
   "outputs": [],
   "source": [
    "# puxa tabela do sql\n",
    "fidelidade_partido = pd.read_sql_query('SELECT * FROM a_camdep.votacao_bancada_partidos ORDER BY datavotacao DESC'.format(SCHEMA),\n",
    "                                       conn)\n",
    "\n",
    "# joga fora as entradas duplicadas por id e partido/bloco\n",
    "fidelidade_partido = fidelidade_partido.drop_duplicates(subset=['votacao_id', 'partido_bloco'])\n",
    "# reshape a tabela de fidelidade para ficar votacao_id x partidos\n",
    "votacao_partido = fidelidade_partido.pivot(index='votacao_id', columns='partido_bloco', values='orientacao')\n",
    "# seleciona a posicao do governo e exclui ela da tabela geral\n",
    "votacao_gov = votacao_partido['GOV']\n",
    "del votacao_partido['GOV']\n",
    "# cria tabela verdade de 0 e 1 para cada votacao para cada partido\n",
    "votacao_partido = votacao_partido.apply(lambda partidos: partidos == votacao_gov)\n",
    "def bin(x):\n",
    "    if x:\n",
    "        return 1\n",
    "    else:\n",
    "        return 0\n",
    "votacao_partido = votacao_partido.applymap(bin)\n",
    "# junta tabela de id com votacao partido para ter info das datas e proposicao\n",
    "votacao_partido.reset_index(level=0, inplace=True)\n",
    "\n",
    "\n",
    "# upload para sql\n",
    "votacao_partido.rename(columns=lambda x: x.lower(), inplace=True)\n",
    "votacao_partido.to_sql('votacao_governo_partidos_dia', conn, schema='desenv', if_exists='replace')"
   ]
  },
  {
   "cell_type": "markdown",
   "metadata": {},
   "source": [
    "#### Cria tabela votação orientação deputado governo\n",
    "\n",
    "A mesma ideia só que para os partidos."
   ]
  },
  {
   "cell_type": "code",
   "execution_count": 19,
   "metadata": {
    "collapsed": true
   },
   "outputs": [],
   "source": [
    "# puxa tabela do sql\n",
    "fidelidade_deputado_raw = pd.read_sql_query('SELECT * FROM a_camdep.votacao_deputado ORDER BY datavotacao DESC'.format(SCHEMA),\n",
    "                                        conn)\n",
    "vot_governo = pd.read_sql_query('SELECT * FROM desenv.cam_votacao_bancada_governo',\n",
    "                                        conn)"
   ]
  },
  {
   "cell_type": "code",
   "execution_count": 20,
   "metadata": {
    "collapsed": true
   },
   "outputs": [],
   "source": [
    "vot_governo = vot_governo[['codproposicao', 'codsessao', 'datavotacao', 'orientacao', 'votacao_id']]"
   ]
  },
  {
   "cell_type": "code",
   "execution_count": 21,
   "metadata": {
    "collapsed": true
   },
   "outputs": [],
   "source": [
    "# merge hash para cada votacao na tabela de fidelidade\n",
    "fidelidade_deputado = fidelidade_deputado_raw.merge(vot_governo,\n",
    "                                                on=['codproposicao', 'codsessao', 'datavotacao'])\n",
    "\n",
    "# deleta entradas duplicadas \n",
    "fidelidade_deputado = fidelidade_deputado.drop_duplicates(subset=['votacao_id', 'idecadastro'])\n",
    "\n",
    "# deleta entradas que o governo não se posicionou\n",
    "fidelidade_deputado = fidelidade_deputado.dropna(subset=['orientacao'])\n",
    "\n",
    "# deleta entradas que o governo se posicionou como 'Liberado'\n",
    "fidelidade_deputado = fidelidade_deputado[fidelidade_deputado['orientacao'] != 'Liberado']\n",
    "\n",
    "# deleta entradas que o governo se posicionou como 'Abstenção'\n",
    "fidelidade_deputado = fidelidade_deputado[fidelidade_deputado['orientacao'] != 'Abstenção']\n",
    "\n",
    "# deleta entradas com voto parlamentar  '-'\n",
    "fidelidade_deputado = fidelidade_deputado[fidelidade_deputado['voto'] != '-']\n",
    "\n",
    "# deleta entradas com voto parlamentar  'Art. 17'\n",
    "fidelidade_deputado = fidelidade_deputado[fidelidade_deputado['voto'] != 'Art. 17']\n",
    "\n",
    "# cria coluna de apoio\n",
    "fidelidade_deputado['fidelidade'] = np.where(fidelidade_deputado['orientacao'] \n",
    "                                             == fidelidade_deputado['voto'],\n",
    "                                            1, 0)\n",
    "# cria coluna para quorum\n",
    "fidelidade_deputado = fidelidade_deputado.merge(fidelidade_deputado.groupby('votacao_id').count()['codproposicao'].to_frame().reset_index(), on='votacao_id')\n",
    "fidelidade_deputado.rename(columns={'codproposicao_y': 'quorum'}, inplace=True)\n",
    "\n",
    "# cria coluna partido atualizado\n",
    "fidelidade_deputado['partido_atualizado'] = fidelidade_deputado['partido'].apply(substitui_sigla)\n",
    "\n",
    "# cria coluna do tamanho da bancada na votação\n",
    "tam_bancada = fidelidade_deputado.groupby(['votacao_id', 'partido_atualizado']).count().reset_index()[['votacao_id','partido_atualizado', 'tipo']]\n",
    "fidelidade_deputado = fidelidade_deputado.merge(tam_bancada, on=['votacao_id', 'partido_atualizado'])\n",
    "fidelidade_deputado.rename(columns={'tipo_y': 'tam_bancada'}, inplace=True)\n",
    "\n",
    "# prepara e up no banco\n",
    "fidelidade_deputado.rename(columns=lambda x: x.lower(), inplace=True)"
   ]
  },
  {
   "cell_type": "code",
   "execution_count": 22,
   "metadata": {
    "collapsed": true
   },
   "outputs": [],
   "source": [
    "fidelidade_deputado.to_sql('votacao_governo_deputados_dia',\n",
    "                           conn, \n",
    "                           schema='desenv', \n",
    "                           if_exists='replace',\n",
    "                           chunksize=10000)"
   ]
  },
  {
   "cell_type": "markdown",
   "metadata": {},
   "source": [
    "#### Gráfico Interativo\n",
    "\n",
    "Agora montarei um gráfico interativo que permite explorar o apoio dos partidos ao governo. \n",
    "\n",
    "Para criar esse gráfico, tirei a média de apoio de cada partido ao governo por votação. Por exemplo, se uma partido PXX tem 10 parlamentares, 6 votaram com o governo e outros 4 contra o governo, então o apoio do partido foi de 60%, ou 0.6.\n",
    "\n",
    "Depois, fiz uma Double Exponential Moving Average para modelar os dados. Escolhi esse modelo pois ele dá um peso maior para os dados recentes, deixando a curva mais reativa aos movimentos legislativos."
   ]
  },
  {
   "cell_type": "code",
   "execution_count": 15,
   "metadata": {},
   "outputs": [
    {
     "name": "stdout",
     "output_type": "stream",
     "text": [
      "Populating the interactive namespace from numpy and matplotlib\n"
     ]
    },
    {
     "name": "stderr",
     "output_type": "stream",
     "text": [
      "/usr/local/lib/python3.5/dist-packages/IPython/core/magics/pylab.py:160: UserWarning: pylab import has clobbered these variables: ['f', 'text']\n",
      "`%matplotlib` prevents importing * from pylab and numpy\n",
      "  \"\\n`%matplotlib` prevents importing * from pylab and numpy\"\n"
     ]
    }
   ],
   "source": [
    "import sqlalchemy\n",
    "from sqlalchemy.sql import text\n",
    "import pandas as pd\n",
    "import glob\n",
    "import os\n",
    "import pickle\n",
    "import seaborn as sns\n",
    "from copy import deepcopy\n",
    "import yaml\n",
    "\n",
    "%matplotlib inline  \n",
    "%pylab inline\n",
    "pylab.rcParams['figure.figsize'] = (20,12)"
   ]
  },
  {
   "cell_type": "code",
   "execution_count": null,
   "metadata": {
    "collapsed": true
   },
   "outputs": [],
   "source": [
    "import plotly\n",
    "import plotly.plotly as py\n",
    "import plotly.graph_objs as go\n",
    "\n",
    "plotly.tools.set_credentials_file(username=server['plotly_username_1'], api_key=server['plotly_key_1'])\n",
    "#plotly.tools.set_credentials_file(username=server['plotly_username_2'], api_key=server['plotly_key_2'])"
   ]
  },
  {
   "cell_type": "code",
   "execution_count": null,
   "metadata": {
    "collapsed": true
   },
   "outputs": [],
   "source": [
    "#### MOVING AVERAGES\n",
    "\n",
    "#### Double Moving Average\n",
    "def dema(series, halflife=30, min_periods=10):\n",
    "    \n",
    "    ma = series.ewm(halflife=halflife, min_periods=min_periods).mean()\n",
    "    \n",
    "    dema = 2*ma - ma.ewm(halflife=halflife).mean()\n",
    "    \n",
    "    return dema\n",
    "\n",
    "#### TRIPLE MOVING AVERAGE\n",
    "def tema(series, halflife=30):\n",
    "    \n",
    "    ma = series.ewm(halflife=halflife).mean()\n",
    "    \n",
    "    dma = ma.ewm(halflife=halflife).mean()\n",
    "    \n",
    "    tma = 3*ma - 3*dma + dma.ewm(halflife=halflife).mean()\n",
    "    \n",
    "    return tma"
   ]
  },
  {
   "cell_type": "code",
   "execution_count": null,
   "metadata": {
    "collapsed": true
   },
   "outputs": [],
   "source": [
    "#### INFOS GERAIS\n",
    "\n",
    "relacoes = {'SD': ['SDD', 'SOLIDARIED', 'SD'],\n",
    "           'GOV': ['APOIO AO GOVERNO', 'GOV', 'GOV.'],\n",
    "           'DEM': ['DEM', 'PFL'],\n",
    "           'PR': ['PRONA', 'PL', 'PR', 'PST'],\n",
    "           'PTB': ['PAN', 'PTB'],\n",
    "           'PRB': ['PRB', 'PMR'],\n",
    "           'PP': ['PP', 'PPB']}\n",
    "\n",
    "color_pec ='#2980b9'\n",
    "color_pl = '#c0392b'\n",
    "\n",
    "def substitui_sigla(sigla):\n",
    "    \n",
    "    for final, values in relacoes.items():\n",
    "        if sigla.upper() in values:\n",
    "            return final\n",
    "    else:\n",
    "        return sigla.upper()"
   ]
  },
  {
   "cell_type": "code",
   "execution_count": null,
   "metadata": {
    "collapsed": true
   },
   "outputs": [],
   "source": [
    "##### Load votações dos deputados e votacao_id_table\n",
    "\n",
    "fidelidade_deputado = pd.read_sql_query('SELECT * FROM desenv.votacao_governo_deputados_dia ORDER BY datavotacao DESC',\n",
    "                                        conn)\n",
    "votacao_id_table = pd.read_sql_query('SELECT * FROM desenv.id_proposicao_com_orient_governo',\n",
    "                                        conn)\n",
    "\n"
   ]
  },
  {
   "cell_type": "code",
   "execution_count": null,
   "metadata": {
    "collapsed": true
   },
   "outputs": [],
   "source": [
    "#### Por voto do deputado no partido\n",
    "\n",
    "from collections import OrderedDict\n",
    "partidos_todos =  OrderedDict( \n",
    "                    [('PMDB',{'cor': '#EA642A'}),\n",
    "                    ('PT',{'cor': '#D81224'}),\n",
    "                    ('PSDB',{'cor': '#1F5393'}),\n",
    "                    ('PSB',{'cor': '#F7AF32'}),\n",
    "                    ('DEM', {'cor':'#1B8396'}),\n",
    "                    ('PTB', { 'cor':'#27B8E8'}),\n",
    "                    ('PDT', { 'cor':'#9D8577'}),\n",
    "                    ('PP', { 'cor':'#CCBE70'}),\n",
    "                    ('PPS', { 'cor':'#9374AE'}),\n",
    "                    ('PV', { 'cor':'#69963D'}),\n",
    "                    ('PR', { 'cor':'#DAA05C'}),\n",
    "                    ('PCdoB', { 'cor':'#BE4060'}),\n",
    "                    ('PSC', { 'cor':'#F9CCAF'}),\n",
    "                    ('PRB', { 'cor':'#5D879D'}),\n",
    "                    ('PSOL', { 'cor':'#FCDB3A'}),\n",
    "                   # ('PSTU', { 'cor':'#EB757F'}),\n",
    "                    ('PTC', { 'cor':'#E1DBB8'}),\n",
    "                    ('PMN', { 'cor':'#69C3CE'}),\n",
    "                    ('PRP', { 'cor':'#D2D63A'}),\n",
    "                    ('PTdoB', { 'cor':'#7D1317'}),\n",
    "                    ('PCB', { 'cor':'#B8452C'}),\n",
    "                    ('PRTB', { 'cor':'#B18EBD'}),\n",
    "                    ('PHS', { 'cor':'#9FB292'}),\n",
    "                    ('PSDC', { 'cor':'#109745'}),\n",
    "                    ('PCO', { 'cor':'#575656'}),\n",
    "                    ('PTN', { 'cor':'#218CCD'}),\n",
    "                    ('PSL', { 'cor':'#E5E68E'}),\n",
    "                    ('PSD', { 'cor':'#803367'}),\n",
    "                    ('PPL', { 'cor':'#B3B2B2'}),\n",
    "                    ('PEN', { 'cor':'#9F742E'}),\n",
    "                    ('PROS', { 'cor':'#E63D85'}), \n",
    "                    ('REDE', {'cor': '#3AB6C1'})])\n",
    "\n",
    "fidelidade_deputado.head(1)"
   ]
  },
  {
   "cell_type": "code",
   "execution_count": null,
   "metadata": {
    "collapsed": true
   },
   "outputs": [],
   "source": [
    "# SUBSTITUI OS PARTIDOS QUE SE UNIRAM OU MUDARAM DE SIGLA\n",
    "fidelidade_deputado['partido_atualizado'] = fidelidade_deputado['partido'].apply(substitui_sigla) \n",
    "\n",
    "# CALCULA MEDIA GERAL\n",
    "votos_total = fidelidade_deputado[['votacao_id', 'fidelidade']].groupby(['votacao_id']).sum()\n",
    "quorum_total     = fidelidade_deputado[['votacao_id', 'fidelidade']].groupby(['votacao_id']).count().rename(columns={'fidelidade': 'quorum_total'})\n",
    "fidelidade_total = votos_total['fidelidade'].divide(quorum_total['quorum_total'])\n",
    "\n",
    "fidelidade_deputado_partido = fidelidade_deputado.groupby(\n",
    "                                        ['partido_atualizado', 'votacao_id']).apply(\n",
    "                                                lambda x: sum(x['fidelidade'])/x['tam_bancada'].unique()[0])\n",
    "\n",
    "fidelidade_deputado_partido = fidelidade_deputado_partido.to_frame().reset_index().pivot(index='votacao_id', columns='partido_atualizado', values=0)\n",
    "\n",
    "fidelidade_deputado_partido = pd.concat([fidelidade_deputado_partido,fidelidade_total], axis=1).rename(columns={0:'Apoio Médio'})\n",
    "\n",
    "fidelidade_deputado_partido = fidelidade_deputado_partido.reset_index().merge(votacao_id_table[['votacao_id', 'datavotacao']], on='votacao_id')\n",
    "fidelidade_deputado_partido_analise =  fidelidade_deputado_partido.reset_index().merge(votacao_id_table, on='votacao_id')\n",
    "fidelidade_deputado_partido.index = fidelidade_deputado_partido['datavotacao']\n",
    "fidelidade_deputado_partido.sort_index(inplace=True)\n",
    "\n",
    "del fidelidade_deputado_partido['datavotacao']\n",
    "del fidelidade_deputado_partido['votacao_id']\n"
   ]
  },
  {
   "cell_type": "code",
   "execution_count": null,
   "metadata": {
    "collapsed": true
   },
   "outputs": [],
   "source": [
    "### FILTRA OS PARTIDOS POR PERIODO\n",
    "\n",
    "def cut_series(series, timestamp):       \n",
    "    a = series[:timestamp].apply(lambda x: np.nan)\n",
    "    b = series[timestamp:]\n",
    "    return a.append(b)\n",
    "\n",
    "partidos_filtrados = [('PSDC', '2014-06-01'),\n",
    "                      ('PTN', '2015-02-01'),\n",
    "                      ('PHS', '2007-03-01'),\n",
    "                      ('PSL', '2011-01-01'),\n",
    "                      ('PMN', '2007-01-01'),\n",
    "                      ('PSC', '2003-01-01'),\n",
    "                      ('PSD', '2012-01-01')]\n",
    "\n",
    "for partido, timestamp in partidos_filtrados:\n",
    "    \n",
    "    fidelidade_deputado_partido[partido] = cut_series(fidelidade_deputado_partido[partido], timestamp)\n",
    "\n",
    "## RESCALE TO [-1 to 1]\n",
    "\n",
    "fidelidade_deputado_partido = fidelidade_deputado_partido.applymap(lambda x: 2*x - 1)\n",
    "\n",
    "data = []\n"
   ]
  },
  {
   "cell_type": "code",
   "execution_count": 16,
   "metadata": {},
   "outputs": [
    {
     "name": "stdout",
     "output_type": "stream",
     "text": [
      "The draw time for this plot will be slow for clients without much RAM.\n"
     ]
    },
    {
     "name": "stderr",
     "output_type": "stream",
     "text": [
      "/usr/local/lib/python3.5/dist-packages/plotly/api/v1/clientresp.py:40: UserWarning:\n",
      "\n",
      "Estimated Draw Time Slow\n",
      "\n"
     ]
    },
    {
     "data": {
      "text/html": [
       "<iframe id=\"igraph\" scrolling=\"no\" style=\"border:none;\" seamless=\"seamless\" src=\"https://plot.ly/~JoaoCarabetta/8.embed\" height=\"880px\" width=\"600px\"></iframe>"
      ],
      "text/plain": [
       "<plotly.tools.PlotlyDisplay object>"
      ]
     },
     "execution_count": 16,
     "metadata": {},
     "output_type": "execute_result"
    }
   ],
   "source": [
    "halflife = 90\n",
    "min_periods = 20\n",
    "# MEDIA GERAL\n",
    "partido = 'Apoio Médio'\n",
    "d = go.Scatter(\n",
    "                name = '{0}'.format(partido),\n",
    "                mode = 'lines',\n",
    "                line = dict(\n",
    "                            color = '#7F7F7F',\n",
    "                            width = 2),\n",
    "\n",
    "                x = fidelidade_deputado_partido.index, \n",
    "                y = dema(fidelidade_deputado_partido[partido], halflife=halflife, min_periods=min_periods)\n",
    "        )\n",
    "data.append(d)\n",
    "\n",
    "\n",
    "#### MEDIA FIXA 60 VOTACOES\n",
    "for partido, args in partidos_todos.items():\n",
    "    \n",
    "    try:\n",
    "        y = dema(fidelidade_deputado_partido[partido.upper()], halflife=halflife, min_periods=min_periods)\n",
    "    except:\n",
    "        continue\n",
    "    d = go.Scatter(\n",
    "                visible = \"legendonly\",\n",
    "                name = '{0}'.format(partido.upper()),\n",
    "                mode = 'lines',\n",
    "                line = dict(\n",
    "                            color = (args['cor']),\n",
    "                            width = 2),\n",
    "                x = fidelidade_deputado_partido.index,\n",
    "                y = y\n",
    "        )\n",
    "    data.append(d)\n",
    "\n",
    "#### RETANGULOS PRESIDENTES\n",
    "rectangle_color = '#ECEFF0'\n",
    "opacity = 0.8\n",
    "presidentes = [\n",
    "        # LULA I\n",
    "        {\n",
    "            'type': 'rect','xref': 'x','yref': 'y','x0': '2003-01-01','y0': -1.1,'x1': '2006-12-31','y1': 2,\n",
    "            'fillcolor':rectangle_color ,'opacity': opacity ,'line': {\n",
    "                'width': 0\n",
    "            }, 'layer':'below',\n",
    "        },\n",
    "        # DILMA I\n",
    "        {\n",
    "            'type': 'rect','xref': 'x','yref': 'y','x0': '2011-01-01','y0': -1.1,'x1': '2014-12-31','y1': 2,\n",
    "            'fillcolor': rectangle_color,'opacity': opacity ,'line': {\n",
    "                'width': 0\n",
    "            },'layer':'below'\n",
    "        },\n",
    "        # TEMER \n",
    "        {\n",
    "            'type': 'rect','xref': 'x','yref': 'y','x0': '2016-05-01','y0': -1.1,\n",
    "            'x1': datetime.datetime.strftime(fidelidade_deputado_partido.index[-1], '%Y-%m-%d'),\n",
    "            'y1': 2,\n",
    "            'fillcolor': rectangle_color,'opacity': opacity ,'line': {\n",
    "                'width': 0,\n",
    "            }, 'layer':'below'\n",
    "        }]  \n",
    "\n",
    "### ANOTACOES PRESITENTES\n",
    "y_pred = 1.05\n",
    "presidentes_hist = [dict(x='2000-12-31',\n",
    "                      y=y_pred,\n",
    "                      xref='x', yref='paper',\n",
    "                      text='FHC II',\n",
    "                      ax=0, ay=-30,\n",
    "                      showarrow=False,\n",
    "                        font=dict(size=9)),\n",
    "                    dict(x='2004-12-31',\n",
    "                      y=y_pred,\n",
    "                      xref='x', yref='paper',\n",
    "                      text='LULA I',\n",
    "                      ax=0, ay=-30,\n",
    "                      showarrow=False,\n",
    "                        font=dict(size=9)),\n",
    "                   dict(x='2008-12-31',\n",
    "                      y=y_pred,\n",
    "                      xref='x', yref='paper',\n",
    "                      text='LULA II',\n",
    "                      ax=0, ay=-30,\n",
    "                      showarrow=False,\n",
    "                       font=dict(size=9)),\n",
    "                   dict(x='2012-12-31',\n",
    "                      y=y_pred,\n",
    "                      xref='x', yref='paper',\n",
    "                      text='DILMA I',\n",
    "                      ax=0, ay=-30,\n",
    "                      showarrow=False,\n",
    "                       font=dict(size=9)),\n",
    "                   dict(x='2015-08-15',\n",
    "                      y=y_pred,\n",
    "                      xref='x', yref='paper',\n",
    "                      text='DILMA II',\n",
    "                      ax=0, ay=-30,\n",
    "                      showarrow=False,\n",
    "                       font=dict(size=9)),\n",
    "                   dict(x='2016-12-01',\n",
    "                      y=y_pred,\n",
    "                      xref='x', yref='paper',\n",
    "                      text='TEMER',\n",
    "                      ax=0, ay=-30,\n",
    "                      showarrow=False,\n",
    "                      font=dict(size=9))]\n",
    "\n",
    "#### RETANGULOS PRESIDENTE CAMARA\n",
    "rectangle_color = '#ECEFF0'\n",
    "opacity = 0.8\n",
    "shape_skeleton = {'type': 'rect','xref': 'x','yref': 'y','x0': '2003-01-01','y0': -1.1,'x1': '2006-12-31','y1': 2,\n",
    "            'fillcolor':rectangle_color ,'opacity': opacity ,'line': {'width': 0}, 'layer':'below'}\n",
    "\n",
    "\n",
    "presidentes_camara = [ {'mandato': ('1999-02-02','2001-02-13'), 'nome': 'TEMER', 'partido':'PMDB'},\n",
    "                       {'mandato': ('2001-02-13','2002-12-17'), 'nome': 'AÉCIO', 'partido':'PSDB'},\n",
    "                       {'mandato': ('2003-02-02','2005-02-14'), 'nome': 'LIMA'  , 'partido':'PT'},\n",
    "                       {'mandato': ('2005-02-14','2005-07-21'), 'nome': '*', 'partido':''},\n",
    "                       {'mandato': ('2005-07-28','2007-02-01'), 'nome': 'REBELO', 'partido':'PCdoB'},\n",
    "                       {'mandato': ('2007-02-01','2009-02-02'), 'nome': 'CHINAGLIA' , 'partido':'PT'},\n",
    "                       {'mandato': ('2009-02-02','2010-12-17'), 'nome': 'TEMER', 'partido':'PMDB'  },\n",
    "                       {'mandato': ('2010-12-17','2013-02-04'), 'nome': 'AURELI', 'partido':'PT'},\n",
    "                       {'mandato': ('2013-02-04','2015-02-01'), 'nome': 'ALVES', 'partido':'PMDB'},\n",
    "                       {'mandato': ('2015-02-01','2016-07-07'), 'nome': 'CUNHA', 'partido':'PMDB'},\n",
    "                       {'mandato': ('2016-07-07',\n",
    "                                   datetime.datetime.strftime(fidelidade_deputado_partido.index[-1], '%Y-%m-%d')),\n",
    "                      'nome': 'MAIA', 'partido':'DEM'}]\n",
    "\n",
    "\n",
    "presidentes_camara_shapes = []\n",
    "for i in range(len(presidentes_camara)):\n",
    "    if i % 2 != 0:\n",
    "        shape_skeleton.update(dict(zip(['x0','x1'],presidentes_camara[i]['mandato'])))\n",
    "        presidentes_camara_shapes.append(deepcopy(shape_skeleton))\n",
    "\n",
    "#### ANOTACOES PRESIDETES CAMARA\n",
    "\n",
    "y_pred = 1.05\n",
    "annot_skeleton = dict(x='2000-12-31', y=y_pred, xref='x', yref='paper', text='FHC II',ax=0, ay=-30,\n",
    "                     showarrow=False,\n",
    "                       font=dict(size=9))\n",
    "\n",
    "presidentes_camara_annot = []\n",
    "for presidente in presidentes_camara:\n",
    "    a, b  = presidente['mandato']\n",
    "    a = datetime.datetime.strptime(a, '%Y-%m-%d')\n",
    "    b = datetime.datetime.strptime(b, '%Y-%m-%d')\n",
    "    mean = a + (b - a) /2\n",
    "    annot_skeleton.update(dict(zip(['x','text'], (mean, '{0}<br>{1}'.format(presidente['nome'], presidente['partido'])))))\n",
    "    presidentes_camara_annot.append(deepcopy(annot_skeleton))\n",
    "    \n",
    "severino = [dict(text='* SEVERINO PP', font=dict(size=9), x=0.5, y=-0.47, yref='paper', xref='paper', showarrow=False)]\n",
    "    \n",
    "\n",
    "\n",
    "### ACONTECIMENTOS\n",
    "acontecimentos = [dict(x='2013-06-23',\n",
    "                      y=1,\n",
    "                      xref='x', yref='paper',\n",
    "                      text='Jornadas de <br> Junho',\n",
    "                      ax=0, ay=-18,\n",
    "                      font=dict(size=10)),\n",
    "               dict(x='2005-06-30',\n",
    "                    y=1,\n",
    "                    xref='x', yref='paper',\n",
    "                    text='Mensalão',\n",
    "                    ax=0, ay=-12,\n",
    "                   font=dict(size=10)),\n",
    "                dict(x='2008-09-15',\n",
    "                    y=1,\n",
    "                    xref='x', yref='paper',\n",
    "                    text='Crise <br> Financeira',\n",
    "                    ax=0, ay=-18,\n",
    "                    font=dict(size=10)),\n",
    "                dict(x='2016-05-12',\n",
    "                    y=1,\n",
    "                    xref='x', yref='paper',\n",
    "                    text='Impeachment',\n",
    "                    ax=0, ay=-12,\n",
    "                    font=dict(size=10)),]\n",
    "                    \n",
    "\n",
    "acontecimentos_lines =  [{\n",
    "                            'type': 'line',\n",
    "                            'x0': ac['x'],\n",
    "                            'y0': -1.1,\n",
    "                            'x1': ac['x'],\n",
    "                            'y1': 1.1,\n",
    "                            'line': {\n",
    "                                'color': 'black',\n",
    "                                'width': 1,\n",
    "                            },\n",
    "                        } for ac in acontecimentos]\n",
    "\n",
    "\n",
    "y_arrows = [dict(x=-0.012, y=1.02, ax=0, ay=17, arrowsize=1, arrowhead=4, xref='paper' )]\n",
    "\n",
    "### TEXTO DO GRAFICO\n",
    "subtitulos = [dict(text='PRESIDENTES', font=dict(size=11), x=0, y=-0.12, yref='paper', xref='paper', showarrow=False),\n",
    "             dict(text='INFORMAÇÕES', font=dict(size=11), x=0, y=-0.32, yref='paper', xref='paper', showarrow=False),\n",
    "             dict(text='PARTIDOS', font=dict(size=11), x=0, y=-0.52, yref='paper', xref='paper', showarrow=False),\n",
    "             dict(text='Dados: <a href=\\\"http://www2.camara.leg.br/transparencia/dados-abertos/dados-abertos-legislativo\\\">Câmara dos Deputados</a>', \n",
    "                  font=dict(size=9), x=0, y=-0.95, yref='paper', xref='paper', showarrow=False),\n",
    "             dict(text='Atualizado: {}'.format(datetime.datetime.strftime(datetime.datetime.now(), '%d/%m/%Y')), \n",
    "                  font=dict(size=9), x=0.35, y=-0.95, yref='paper', xref='paper', showarrow=False),\n",
    "             dict(text='Elaborado por Congresso Em Números', \n",
    "                  font=dict(size=9), x=0.60, y=-0.95, yref='paper', xref='paper', showarrow=False),]\n",
    "\n",
    "\n",
    "#### BOTOES PRESIDENTES\n",
    "y_button_president = -0.22\n",
    "updatemenus = list([\n",
    "    dict(buttons=list([   \n",
    "            dict(label = 'FHC II',\n",
    "                 method = 'relayout',\n",
    "                 args = [{'xaxis': dict(range=[datetime.datetime.strftime(fidelidade_deputado_partido.index[0], \n",
    "                                                                          '%Y-%m-%d'), \n",
    "                                               '2002-12-31'])}]),  \n",
    "           \n",
    "            dict(label = 'LULA I',\n",
    "                 method = 'relayout',\n",
    "                 args = [{'xaxis': dict(range=['2003-01-01', '2006-12-31'])}]),\n",
    "\n",
    "            dict(label = 'LULA II',\n",
    "                 method = 'relayout',\n",
    "                 args = [{'xaxis': dict(range=['2007-01-01', '2010-12-31'])}]),\n",
    "\n",
    "            dict(label = 'DILMA I',\n",
    "                 method = 'relayout',\n",
    "                 args = [{'xaxis': dict(range=['2011-01-01', '2014-12-31'])}]),\n",
    "\n",
    "            dict(label = 'DILMA II',\n",
    "                 method = 'relayout',\n",
    "                 args = [{'xaxis': dict(range=['2015-01-01', '2016-05-01'])}]),\n",
    "        \n",
    "            dict(label = 'TEMER',\n",
    "                 method = 'relayout',\n",
    "                 args = [{'xaxis': dict(range=['2016-05-01', \n",
    "                                               datetime.datetime.strftime(fidelidade_deputado_partido.index[-1], \n",
    "                                                                          '%Y-%m-%d')])}]),\n",
    "             dict(label = 'TODOS',\n",
    "                 method = 'relayout',\n",
    "                 args = [{'xaxis': dict(range=[datetime.datetime.strftime(fidelidade_deputado_partido.index[0], \n",
    "                                                                          '%Y-%m-%d'), \n",
    "                                               datetime.datetime.strftime(fidelidade_deputado_partido.index[-1], \n",
    "                                                                          '%Y-%m-%d')])}]),\n",
    "            ]),\n",
    "            direction = 'left',\n",
    "            pad = {'r': 10, 't': 10},\n",
    "            showactive = True,\n",
    "            active = 6,\n",
    "            type = 'buttons',\n",
    "            x = 0,\n",
    "            xanchor = 'left',\n",
    "            y = y_button_president,\n",
    "            yanchor = 'bottom' ),\n",
    "\n",
    "    ## BOTOES INFORMACOES\n",
    "    dict(buttons=list([   \n",
    "        dict(label = 'Acontecimentos',\n",
    "             method = 'relayout',\n",
    "             args = [{'annotations': acontecimentos +  subtitulos,\n",
    "                     'shapes': acontecimentos_lines,\n",
    "                     'xaxis': dict(tickvals=[x['x'] for x in acontecimentos])}]),\n",
    "        dict(label = 'Presidentes',\n",
    "             method = 'relayout',\n",
    "             args = [{'annotations': presidentes_hist + subtitulos,\n",
    "                     'shapes': presidentes,\n",
    "                     'xaxis': dict(tickvals=['2003', '2007', '2011', '2015'], tickformat='%Y')}]),\n",
    "        dict(label = 'Presidentes Câmara',\n",
    "             method = 'relayout',\n",
    "             args = [{'annotations': presidentes_camara_annot + subtitulos + severino,\n",
    "                     'shapes': presidentes_camara_shapes,\n",
    "                     'xaxis': dict(tickvals=['2001','2003','2005', '2007','2009', '2011', '2013', '2015', '2007', '2017'], tickformat='%Y')}]),\n",
    "         dict(label = 'Limpar',\n",
    "             method = 'relayout',\n",
    "             args = [{'annotations': subtitulos,\n",
    "                     'shapes': [],\n",
    "                      'xaxis': dict(tickvals=['2003', '2007', '2011', '2015'], tickformat='%Y')}]),\n",
    "        ]),\n",
    "            direction = 'left',\n",
    "            pad = {'r': 10, 't': 10},\n",
    "            showactive = True,\n",
    "            active = 3,\n",
    "            type = 'buttons',\n",
    "            x = 0,\n",
    "            xanchor = 'left',\n",
    "            y = -0.42,\n",
    "            yanchor = 'bottom' )\n",
    "])\n",
    "\n",
    "\n",
    "legend = dict(orientation='h', x=0, y=-0.72, xanchor='center', yanchor='middle')\n",
    "\n",
    "yaxis = go.YAxis(\n",
    "    #title=\"Apoio ao Governo\",\n",
    "    range=[-1.1, 1.1],\n",
    "    showgrid=False,\n",
    "    showline=True,\n",
    "    ticks=\"\", \n",
    "    showticklabels=True,\n",
    "    #mirror=True,\n",
    "    linewidth=1,\n",
    "    ticktext=['Menos<br>Apoio', 'Mais<br>Apoio'],\n",
    "    tickvals=[-0.96, 1.09]\n",
    ")\n",
    "layout = dict(title = 'Apoio ao Governo das Bancadas Partidárias por Voto <br> Parlamentar na Câmara ',\n",
    "              xaxis = dict(#rangeslider=dict(),\n",
    "                            type='date'),\n",
    "              yaxis = yaxis,\n",
    "              autosize=False,\n",
    "              width=600,\n",
    "              height=880,\n",
    "              margin=go.Margin(\n",
    "                    l=50,\n",
    "                    r=30,\n",
    "                    b=360,\n",
    "                    t=110,\n",
    "                    pad=0\n",
    "                ),\n",
    "              paper_bgcolor='#F2F2F2',\n",
    "              plot_bgcolor='#F2F2F2',\n",
    "              updatemenus=updatemenus,\n",
    "              annotations=subtitulos,\n",
    "              legend=legend,\n",
    "              font = dict(family='Lato, sans-serif')\n",
    "              #shapes = presidentes,\n",
    ")\n",
    "\n",
    "            \n",
    "fig = dict(data = data, layout=layout)\n",
    "py.iplot(fig, filename='Apoio Governo Bancadas Voto Parlamentar')"
   ]
  },
  {
   "cell_type": "code",
   "execution_count": null,
   "metadata": {
    "collapsed": true
   },
   "outputs": [],
   "source": []
  }
 ],
 "metadata": {
  "kernelspec": {
   "display_name": "Python 3",
   "language": "python",
   "name": "python3"
  },
  "language_info": {
   "codemirror_mode": {
    "name": "ipython",
    "version": 3
   },
   "file_extension": ".py",
   "mimetype": "text/x-python",
   "name": "python",
   "nbconvert_exporter": "python",
   "pygments_lexer": "ipython3",
   "version": "3.5.2+"
  }
 },
 "nbformat": 4,
 "nbformat_minor": 2
}
